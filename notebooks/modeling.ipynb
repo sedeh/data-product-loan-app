{
 "cells": [
  {
   "cell_type": "markdown",
   "metadata": {},
   "source": [
    "# Build an ML model on consumer loan data"
   ]
  },
  {
   "cell_type": "code",
   "execution_count": 1,
   "metadata": {
    "id": "Bh6MxYVYqSp9"
   },
   "outputs": [],
   "source": [
    "# Load libraries\n",
    "import os\n",
    "import sys\n",
    "import time\n",
    "import pickle\n",
    "import platform\n",
    "import datetime\n",
    "import pkg_resources\n",
    "from pathlib import Path\n",
    "import pandas as pd\n",
    "from sklearn.ensemble import RandomForestRegressor\n",
    "# from xgboost import XGBRegressor\n",
    "# from sklearn.ensemble import GradientBoostingRegressor\n",
    "from sklearn.metrics import mean_absolute_error\n",
    "from sklearn.model_selection import train_test_split\n",
    "\n",
    "import seaborn\n",
    "from matplotlib import pyplot\n",
    "\n",
    "Path('../models').mkdir(parents=True, exist_ok=True)"
   ]
  },
  {
   "cell_type": "code",
   "execution_count": 2,
   "metadata": {},
   "outputs": [],
   "source": [
    "start_time = time.time()"
   ]
  },
  {
   "cell_type": "code",
   "execution_count": 3,
   "metadata": {},
   "outputs": [],
   "source": [
    "seed = 1\n",
    "version = 1.0\n",
    "model_identifier = 'loanapp'"
   ]
  },
  {
   "cell_type": "markdown",
   "metadata": {},
   "source": [
    "## Load data"
   ]
  },
  {
   "cell_type": "code",
   "execution_count": 4,
   "metadata": {
    "colab": {
     "base_uri": "https://localhost:8080/"
    },
    "id": "VY9SSYczqWTY",
    "outputId": "3eed74f4-e1f0-4adc-a2ab-6df1356b5af6"
   },
   "outputs": [],
   "source": [
    "raw = pd.read_csv('https://raw.githubusercontent.com/sedeh/Datasets/main/loan_200k.csv')"
   ]
  },
  {
   "cell_type": "markdown",
   "metadata": {},
   "source": [
    "## Display data"
   ]
  },
  {
   "cell_type": "code",
   "execution_count": 5,
   "metadata": {},
   "outputs": [
    {
     "data": {
      "text/plain": [
       "(200000, 18)"
      ]
     },
     "execution_count": 5,
     "metadata": {},
     "output_type": "execute_result"
    }
   ],
   "source": [
    "raw.shape"
   ]
  },
  {
   "cell_type": "code",
   "execution_count": 6,
   "metadata": {},
   "outputs": [
    {
     "data": {
      "text/plain": [
       "['id',\n",
       " 'member_id',\n",
       " 'loan_amnt',\n",
       " 'term_in_months',\n",
       " 'interest_rate',\n",
       " 'payment',\n",
       " 'grade',\n",
       " 'sub_grade',\n",
       " 'employment_length',\n",
       " 'home_owner',\n",
       " 'income',\n",
       " 'verified',\n",
       " 'default',\n",
       " 'purpose',\n",
       " 'zip_code',\n",
       " 'addr_state',\n",
       " 'open_accts',\n",
       " 'credit_debt']"
      ]
     },
     "execution_count": 6,
     "metadata": {},
     "output_type": "execute_result"
    }
   ],
   "source": [
    "raw.columns.to_list()"
   ]
  },
  {
   "cell_type": "code",
   "execution_count": 7,
   "metadata": {},
   "outputs": [
    {
     "data": {
      "text/html": [
       "<div>\n",
       "<style scoped>\n",
       "    .dataframe tbody tr th:only-of-type {\n",
       "        vertical-align: middle;\n",
       "    }\n",
       "\n",
       "    .dataframe tbody tr th {\n",
       "        vertical-align: top;\n",
       "    }\n",
       "\n",
       "    .dataframe thead th {\n",
       "        text-align: right;\n",
       "    }\n",
       "</style>\n",
       "<table border=\"1\" class=\"dataframe\">\n",
       "  <thead>\n",
       "    <tr style=\"text-align: right;\">\n",
       "      <th></th>\n",
       "      <th>id</th>\n",
       "      <th>member_id</th>\n",
       "      <th>loan_amnt</th>\n",
       "      <th>term_in_months</th>\n",
       "      <th>interest_rate</th>\n",
       "      <th>payment</th>\n",
       "      <th>grade</th>\n",
       "      <th>sub_grade</th>\n",
       "      <th>employment_length</th>\n",
       "      <th>home_owner</th>\n",
       "      <th>income</th>\n",
       "      <th>verified</th>\n",
       "      <th>default</th>\n",
       "      <th>purpose</th>\n",
       "      <th>zip_code</th>\n",
       "      <th>addr_state</th>\n",
       "      <th>open_accts</th>\n",
       "      <th>credit_debt</th>\n",
       "    </tr>\n",
       "  </thead>\n",
       "  <tbody>\n",
       "    <tr>\n",
       "      <th>0</th>\n",
       "      <td>123688</td>\n",
       "      <td>123685</td>\n",
       "      <td>1800</td>\n",
       "      <td>36</td>\n",
       "      <td>17.22</td>\n",
       "      <td>64.38</td>\n",
       "      <td>G</td>\n",
       "      <td>G3</td>\n",
       "      <td>1</td>\n",
       "      <td>0</td>\n",
       "      <td>1896.0</td>\n",
       "      <td>0</td>\n",
       "      <td>0</td>\n",
       "      <td>debt_consolidation</td>\n",
       "      <td>853xx</td>\n",
       "      <td>AZ</td>\n",
       "      <td>3</td>\n",
       "      <td>702</td>\n",
       "    </tr>\n",
       "    <tr>\n",
       "      <th>1</th>\n",
       "      <td>139940</td>\n",
       "      <td>139937</td>\n",
       "      <td>500</td>\n",
       "      <td>36</td>\n",
       "      <td>9.01</td>\n",
       "      <td>15.91</td>\n",
       "      <td>B</td>\n",
       "      <td>B2</td>\n",
       "      <td>1</td>\n",
       "      <td>0</td>\n",
       "      <td>2000.0</td>\n",
       "      <td>0</td>\n",
       "      <td>1</td>\n",
       "      <td>other</td>\n",
       "      <td>727xx</td>\n",
       "      <td>AR</td>\n",
       "      <td>2</td>\n",
       "      <td>0</td>\n",
       "    </tr>\n",
       "    <tr>\n",
       "      <th>2</th>\n",
       "      <td>288342</td>\n",
       "      <td>288338</td>\n",
       "      <td>500</td>\n",
       "      <td>36</td>\n",
       "      <td>8.00</td>\n",
       "      <td>15.67</td>\n",
       "      <td>A</td>\n",
       "      <td>A3</td>\n",
       "      <td>1</td>\n",
       "      <td>0</td>\n",
       "      <td>3300.0</td>\n",
       "      <td>0</td>\n",
       "      <td>1</td>\n",
       "      <td>educational</td>\n",
       "      <td>303xx</td>\n",
       "      <td>GA</td>\n",
       "      <td>3</td>\n",
       "      <td>0</td>\n",
       "    </tr>\n",
       "    <tr>\n",
       "      <th>3</th>\n",
       "      <td>228954</td>\n",
       "      <td>228911</td>\n",
       "      <td>1600</td>\n",
       "      <td>36</td>\n",
       "      <td>7.43</td>\n",
       "      <td>49.72</td>\n",
       "      <td>A</td>\n",
       "      <td>A2</td>\n",
       "      <td>1</td>\n",
       "      <td>0</td>\n",
       "      <td>3500.0</td>\n",
       "      <td>0</td>\n",
       "      <td>1</td>\n",
       "      <td>other</td>\n",
       "      <td>069xx</td>\n",
       "      <td>CT</td>\n",
       "      <td>2</td>\n",
       "      <td>506</td>\n",
       "    </tr>\n",
       "    <tr>\n",
       "      <th>4</th>\n",
       "      <td>267670</td>\n",
       "      <td>252052</td>\n",
       "      <td>1525</td>\n",
       "      <td>36</td>\n",
       "      <td>10.71</td>\n",
       "      <td>49.72</td>\n",
       "      <td>B</td>\n",
       "      <td>B5</td>\n",
       "      <td>1</td>\n",
       "      <td>0</td>\n",
       "      <td>3600.0</td>\n",
       "      <td>0</td>\n",
       "      <td>1</td>\n",
       "      <td>moving</td>\n",
       "      <td>109xx</td>\n",
       "      <td>NY</td>\n",
       "      <td>5</td>\n",
       "      <td>3757</td>\n",
       "    </tr>\n",
       "  </tbody>\n",
       "</table>\n",
       "</div>"
      ],
      "text/plain": [
       "       id  member_id  loan_amnt  term_in_months  interest_rate  payment grade  \\\n",
       "0  123688     123685       1800              36          17.22    64.38     G   \n",
       "1  139940     139937        500              36           9.01    15.91     B   \n",
       "2  288342     288338        500              36           8.00    15.67     A   \n",
       "3  228954     228911       1600              36           7.43    49.72     A   \n",
       "4  267670     252052       1525              36          10.71    49.72     B   \n",
       "\n",
       "  sub_grade  employment_length  home_owner  income  verified  default  \\\n",
       "0        G3                  1           0  1896.0         0        0   \n",
       "1        B2                  1           0  2000.0         0        1   \n",
       "2        A3                  1           0  3300.0         0        1   \n",
       "3        A2                  1           0  3500.0         0        1   \n",
       "4        B5                  1           0  3600.0         0        1   \n",
       "\n",
       "              purpose zip_code addr_state  open_accts  credit_debt  \n",
       "0  debt_consolidation    853xx         AZ           3          702  \n",
       "1               other    727xx         AR           2            0  \n",
       "2         educational    303xx         GA           3            0  \n",
       "3               other    069xx         CT           2          506  \n",
       "4              moving    109xx         NY           5         3757  "
      ]
     },
     "execution_count": 7,
     "metadata": {},
     "output_type": "execute_result"
    }
   ],
   "source": [
    "raw.head()"
   ]
  },
  {
   "cell_type": "markdown",
   "metadata": {},
   "source": [
    "The features are typical variables associated with a consumer loan application."
   ]
  },
  {
   "cell_type": "markdown",
   "metadata": {},
   "source": [
    "## Create a new feature"
   ]
  },
  {
   "cell_type": "markdown",
   "metadata": {},
   "source": [
    "Convert a categorical feature, `grade`, to a continuous feature using target encoding which you can read about in my article here: https://www.linkedin.com/pulse/one-hot-vs-target-encoding-samuel-edeh/"
   ]
  },
  {
   "cell_type": "code",
   "execution_count": 8,
   "metadata": {
    "colab": {
     "base_uri": "https://localhost:8080/"
    },
    "id": "pdHVRoTnBLdp",
    "outputId": "15ed9a07-fcbe-4c13-8c39-43626f47269c"
   },
   "outputs": [],
   "source": [
    "means = raw[['grade', 'interest_rate']].groupby('grade').mean().reset_index()\n",
    "keys = means['grade']\n",
    "values = means.interest_rate\n",
    "mapper = {keys[i]: values[i] for i in range(len(keys))}\n",
    "raw['interest_rate_by_grade'] = raw['grade'].map(mapper)"
   ]
  },
  {
   "cell_type": "markdown",
   "metadata": {},
   "source": [
    "## Filter data"
   ]
  },
  {
   "cell_type": "markdown",
   "metadata": {},
   "source": [
    "Drop grade and id columns. In a future iteration, you could attempt to incorporate these features. Ideally, no data should be left behind."
   ]
  },
  {
   "cell_type": "code",
   "execution_count": 9,
   "metadata": {},
   "outputs": [],
   "source": [
    "data = raw.drop(['grade', 'id', 'member_id', 'sub_grade', 'purpose', 'addr_state', 'zip_code'], axis=1)"
   ]
  },
  {
   "cell_type": "code",
   "execution_count": 10,
   "metadata": {},
   "outputs": [],
   "source": [
    "features = data.columns.to_list()\n",
    "features.remove('interest_rate')"
   ]
  },
  {
   "cell_type": "markdown",
   "metadata": {},
   "source": [
    "## Check for outliers"
   ]
  },
  {
   "cell_type": "code",
   "execution_count": 11,
   "metadata": {},
   "outputs": [
    {
     "data": {
      "text/html": [
       "<div>\n",
       "<style scoped>\n",
       "    .dataframe tbody tr th:only-of-type {\n",
       "        vertical-align: middle;\n",
       "    }\n",
       "\n",
       "    .dataframe tbody tr th {\n",
       "        vertical-align: top;\n",
       "    }\n",
       "\n",
       "    .dataframe thead th {\n",
       "        text-align: right;\n",
       "    }\n",
       "</style>\n",
       "<table border=\"1\" class=\"dataframe\">\n",
       "  <thead>\n",
       "    <tr style=\"text-align: right;\">\n",
       "      <th></th>\n",
       "      <th>loan_amnt</th>\n",
       "      <th>term_in_months</th>\n",
       "      <th>interest_rate</th>\n",
       "      <th>payment</th>\n",
       "      <th>employment_length</th>\n",
       "      <th>home_owner</th>\n",
       "      <th>income</th>\n",
       "      <th>verified</th>\n",
       "      <th>default</th>\n",
       "      <th>open_accts</th>\n",
       "      <th>credit_debt</th>\n",
       "      <th>interest_rate_by_grade</th>\n",
       "    </tr>\n",
       "  </thead>\n",
       "  <tbody>\n",
       "    <tr>\n",
       "      <th>count</th>\n",
       "      <td>200000.000000</td>\n",
       "      <td>200000.000000</td>\n",
       "      <td>200000.000000</td>\n",
       "      <td>200000.000000</td>\n",
       "      <td>200000.000000</td>\n",
       "      <td>200000.000000</td>\n",
       "      <td>2.000000e+05</td>\n",
       "      <td>200000.000000</td>\n",
       "      <td>200000.000000</td>\n",
       "      <td>200000.000000</td>\n",
       "      <td>2.000000e+05</td>\n",
       "      <td>200000.000000</td>\n",
       "    </tr>\n",
       "    <tr>\n",
       "      <th>mean</th>\n",
       "      <td>13839.481750</td>\n",
       "      <td>41.948520</td>\n",
       "      <td>13.982023</td>\n",
       "      <td>423.007093</td>\n",
       "      <td>5.971780</td>\n",
       "      <td>0.511585</td>\n",
       "      <td>7.218162e+04</td>\n",
       "      <td>0.448440</td>\n",
       "      <td>0.133875</td>\n",
       "      <td>10.741955</td>\n",
       "      <td>1.618117e+04</td>\n",
       "      <td>13.982023</td>\n",
       "    </tr>\n",
       "    <tr>\n",
       "      <th>std</th>\n",
       "      <td>8088.791755</td>\n",
       "      <td>10.362438</td>\n",
       "      <td>4.383974</td>\n",
       "      <td>240.924297</td>\n",
       "      <td>3.455486</td>\n",
       "      <td>0.499867</td>\n",
       "      <td>5.586973e+04</td>\n",
       "      <td>0.497336</td>\n",
       "      <td>0.340519</td>\n",
       "      <td>4.663660</td>\n",
       "      <td>2.065942e+04</td>\n",
       "      <td>4.151325</td>\n",
       "    </tr>\n",
       "    <tr>\n",
       "      <th>min</th>\n",
       "      <td>500.000000</td>\n",
       "      <td>36.000000</td>\n",
       "      <td>5.420000</td>\n",
       "      <td>15.670000</td>\n",
       "      <td>1.000000</td>\n",
       "      <td>0.000000</td>\n",
       "      <td>1.896000e+03</td>\n",
       "      <td>0.000000</td>\n",
       "      <td>0.000000</td>\n",
       "      <td>0.000000</td>\n",
       "      <td>0.000000e+00</td>\n",
       "      <td>7.607718</td>\n",
       "    </tr>\n",
       "    <tr>\n",
       "      <th>25%</th>\n",
       "      <td>7800.000000</td>\n",
       "      <td>36.000000</td>\n",
       "      <td>10.990000</td>\n",
       "      <td>247.617500</td>\n",
       "      <td>3.000000</td>\n",
       "      <td>0.000000</td>\n",
       "      <td>4.500000e+04</td>\n",
       "      <td>0.000000</td>\n",
       "      <td>0.000000</td>\n",
       "      <td>7.000000</td>\n",
       "      <td>6.510000e+03</td>\n",
       "      <td>11.715400</td>\n",
       "    </tr>\n",
       "    <tr>\n",
       "      <th>50%</th>\n",
       "      <td>12000.000000</td>\n",
       "      <td>36.000000</td>\n",
       "      <td>13.680000</td>\n",
       "      <td>375.490000</td>\n",
       "      <td>6.000000</td>\n",
       "      <td>1.000000</td>\n",
       "      <td>6.200000e+04</td>\n",
       "      <td>0.000000</td>\n",
       "      <td>0.000000</td>\n",
       "      <td>10.000000</td>\n",
       "      <td>1.191650e+04</td>\n",
       "      <td>15.199209</td>\n",
       "    </tr>\n",
       "    <tr>\n",
       "      <th>75%</th>\n",
       "      <td>19400.000000</td>\n",
       "      <td>36.000000</td>\n",
       "      <td>16.990000</td>\n",
       "      <td>555.990000</td>\n",
       "      <td>10.000000</td>\n",
       "      <td>1.000000</td>\n",
       "      <td>8.640000e+04</td>\n",
       "      <td>1.000000</td>\n",
       "      <td>0.000000</td>\n",
       "      <td>13.000000</td>\n",
       "      <td>2.038500e+04</td>\n",
       "      <td>18.054771</td>\n",
       "    </tr>\n",
       "    <tr>\n",
       "      <th>max</th>\n",
       "      <td>35000.000000</td>\n",
       "      <td>60.000000</td>\n",
       "      <td>26.060000</td>\n",
       "      <td>1408.130000</td>\n",
       "      <td>10.000000</td>\n",
       "      <td>1.000000</td>\n",
       "      <td>7.141778e+06</td>\n",
       "      <td>1.000000</td>\n",
       "      <td>1.000000</td>\n",
       "      <td>62.000000</td>\n",
       "      <td>2.568995e+06</td>\n",
       "      <td>23.706543</td>\n",
       "    </tr>\n",
       "  </tbody>\n",
       "</table>\n",
       "</div>"
      ],
      "text/plain": [
       "           loan_amnt  term_in_months  interest_rate        payment  \\\n",
       "count  200000.000000   200000.000000  200000.000000  200000.000000   \n",
       "mean    13839.481750       41.948520      13.982023     423.007093   \n",
       "std      8088.791755       10.362438       4.383974     240.924297   \n",
       "min       500.000000       36.000000       5.420000      15.670000   \n",
       "25%      7800.000000       36.000000      10.990000     247.617500   \n",
       "50%     12000.000000       36.000000      13.680000     375.490000   \n",
       "75%     19400.000000       36.000000      16.990000     555.990000   \n",
       "max     35000.000000       60.000000      26.060000    1408.130000   \n",
       "\n",
       "       employment_length     home_owner        income       verified  \\\n",
       "count      200000.000000  200000.000000  2.000000e+05  200000.000000   \n",
       "mean            5.971780       0.511585  7.218162e+04       0.448440   \n",
       "std             3.455486       0.499867  5.586973e+04       0.497336   \n",
       "min             1.000000       0.000000  1.896000e+03       0.000000   \n",
       "25%             3.000000       0.000000  4.500000e+04       0.000000   \n",
       "50%             6.000000       1.000000  6.200000e+04       0.000000   \n",
       "75%            10.000000       1.000000  8.640000e+04       1.000000   \n",
       "max            10.000000       1.000000  7.141778e+06       1.000000   \n",
       "\n",
       "             default     open_accts   credit_debt  interest_rate_by_grade  \n",
       "count  200000.000000  200000.000000  2.000000e+05           200000.000000  \n",
       "mean        0.133875      10.741955  1.618117e+04               13.982023  \n",
       "std         0.340519       4.663660  2.065942e+04                4.151325  \n",
       "min         0.000000       0.000000  0.000000e+00                7.607718  \n",
       "25%         0.000000       7.000000  6.510000e+03               11.715400  \n",
       "50%         0.000000      10.000000  1.191650e+04               15.199209  \n",
       "75%         0.000000      13.000000  2.038500e+04               18.054771  \n",
       "max         1.000000      62.000000  2.568995e+06               23.706543  "
      ]
     },
     "execution_count": 11,
     "metadata": {},
     "output_type": "execute_result"
    }
   ],
   "source": [
    "data.describe()"
   ]
  },
  {
   "cell_type": "markdown",
   "metadata": {},
   "source": [
    "Looking at the `max`, we don't see outliers we should be concerned about."
   ]
  },
  {
   "cell_type": "markdown",
   "metadata": {},
   "source": [
    "## Check for collinearity"
   ]
  },
  {
   "cell_type": "code",
   "execution_count": 12,
   "metadata": {},
   "outputs": [
    {
     "data": {
      "image/png": "[encoded data removed]",
      "text/plain": [
       "<Figure size 1080x720 with 2 Axes>"
      ]
     },
     "metadata": {
      "needs_background": "light"
     },
     "output_type": "display_data"
    }
   ],
   "source": [
    "pyplot.figure(figsize=(15, 10))\n",
    "seaborn.heatmap(data[features].corr(), annot=True)\n",
    "pyplot.show()"
   ]
  },
  {
   "cell_type": "markdown",
   "metadata": {},
   "source": [
    "`loan_amnt` is strongly correlated with `payment`. This makes sense because the bigger the loan the bigger your payment. However, if two features have more than 98% correlation then they more or less provide the same information to the model. In that case, you can drop one of the features (the one least correlated with the target). Eliminating a redundant feature helps to keep the model simple (Occam's razor) and can help a model to generalize."
   ]
  },
  {
   "cell_type": "code",
   "execution_count": 13,
   "metadata": {},
   "outputs": [
    {
     "data": {
      "text/plain": [
       "['loan_amnt',\n",
       " 'term_in_months',\n",
       " 'payment',\n",
       " 'employment_length',\n",
       " 'home_owner',\n",
       " 'income',\n",
       " 'verified',\n",
       " 'default',\n",
       " 'open_accts',\n",
       " 'credit_debt',\n",
       " 'interest_rate_by_grade']"
      ]
     },
     "execution_count": 13,
     "metadata": {},
     "output_type": "execute_result"
    }
   ],
   "source": [
    "features"
   ]
  },
  {
   "cell_type": "code",
   "execution_count": 14,
   "metadata": {},
   "outputs": [
    {
     "name": "stdout",
     "output_type": "stream",
     "text": [
      "X_train.shape:  (180000, 11)\n",
      "X_test.shape:  (20000, 11)\n"
     ]
    },
    {
     "data": {
      "text/plain": [
       "0.19214635500000524"
      ]
     },
     "execution_count": 14,
     "metadata": {},
     "output_type": "execute_result"
    }
   ],
   "source": [
    "X = data[features]\n",
    "y = data['interest_rate']\n",
    "X_train, X_test, y_train, y_test = train_test_split(X, y, test_size=0.1, random_state=seed)\n",
    "print('X_train.shape: ', X_train.shape)\n",
    "print('X_test.shape: ', X_test.shape)\n",
    "model = RandomForestRegressor(random_state=seed)\n",
    "# model = GradientBoostingRegressor(random_state=seed)\n",
    "# model = XGBRegressor(random_state=seed)\n",
    "model.fit(X_train, y_train)\n",
    "y_true = model.predict(X_test)\n",
    "mean_absolute_error(y_true, y_test)"
   ]
  },
  {
   "cell_type": "markdown",
   "metadata": {},
   "source": [
    "I prefer ensemble algorithms and those are what I tried above. Ensemble method is a machine learning technique that combines several base models in order to produce a super model. In essense, weak models work together to blur individual weaknesses and create a superstructure with enhanced capability.\n",
    "\n",
    "`RandomForestRegressor` achieved an MAE of 0.1921 out-performing other ensemble algorithms specifically `XGBRegressor` (MAE 0.4728) and `GradientBoostingRegressor` (MAE 1.0080). This means that on average we predicted the interest rates to within 0.19 percent. That's substantial given that interest rates range from 5.42 to 26.06. All that by using the default algorithm setting without hyperparamater tuning. You could try to tune the hyperparameters and see if you improve on this result. "
   ]
  },
  {
   "cell_type": "markdown",
   "metadata": {},
   "source": [
    "## <font color='green'>Optional</font>\n",
    "\n",
    "To try out `XGBRegressor`, you would need to install `xgboost`. On the command line, execute:\n",
    "\n",
    "```\n",
    "conda activate loanapp\n",
    "pip install xgboost\n",
    "```\n",
    "\n",
    "And perhaps work through gcc installation issues. Restart the notebook server and now you should have `xgboost`."
   ]
  },
  {
   "cell_type": "markdown",
   "metadata": {},
   "source": [
    "## Save model"
   ]
  },
  {
   "cell_type": "markdown",
   "metadata": {},
   "source": [
    "Embed information about the training environment to define the model's specs and help with any future troubleshooting."
   ]
  },
  {
   "cell_type": "code",
   "execution_count": 15,
   "metadata": {},
   "outputs": [],
   "source": [
    "model.version = version\n",
    "model.model_identifier = model_identifier\n",
    "model.created_date = str(datetime.datetime.now())\n",
    "model.git_hash = os.popen('git rev-parse HEAD').read().strip()"
   ]
  },
  {
   "cell_type": "code",
   "execution_count": 16,
   "metadata": {},
   "outputs": [],
   "source": [
    "environment = dict()\n",
    "environment['python_version'] = sys.version\n",
    "environment['python_implementation'] = sys.implementation.name\n",
    "environment['platform_version'] = platform.version()\n",
    "environment.update(dict(tuple(str(ws).split()) for ws in pkg_resources.working_set))\n",
    "model.environment = environment"
   ]
  },
  {
   "cell_type": "code",
   "execution_count": 17,
   "metadata": {},
   "outputs": [],
   "source": [
    "with open(f'../models/{model_identifier}.pkl', 'wb') as output_file:\n",
    "    pickle.dump(model, output_file)"
   ]
  },
  {
   "cell_type": "code",
   "execution_count": 18,
   "metadata": {},
   "outputs": [
    {
     "data": {
      "text/plain": [
       "'Runtime: 80 sec'"
      ]
     },
     "execution_count": 18,
     "metadata": {},
     "output_type": "execute_result"
    }
   ],
   "source": [
    "f'Runtime: {round(time.time() - start_time)} sec'"
   ]
  }
 ],
 "metadata": {
  "colab": {
   "name": "encoding.ipynb",
   "provenance": []
  },
  "kernelspec": {
   "display_name": "Python 3",
   "language": "python",
   "name": "python3"
  },
  "language_info": {
   "codemirror_mode": {
    "name": "ipython",
    "version": 3
   },
   "file_extension": ".py",
   "mimetype": "text/x-python",
   "name": "python",
   "nbconvert_exporter": "python",
   "pygments_lexer": "ipython3",
   "version": "3.8.6"
  }
 },
 "nbformat": 4,
 "nbformat_minor": 1
}
